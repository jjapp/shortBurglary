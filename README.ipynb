{
 "cells": [
  {
   "cell_type": "markdown",
   "metadata": {},
   "source": [
    "# A Python Implementation of a Statistical Model of Criminal Behavior\n",
    "\n",
    "## Description\n",
    "\n",
    "This is a python implementation of the statistical model of criminal behavior described by Short, D'Orsogno, Pasour, Tita, Brantingham, Bertozzi and Chayes in their paper \"A Statistical Model of Criminal Behavior\" published in Mathematical Models and Methods in Appliend Sciences, Vol 18, Suppl (2008) 1249--1267.\n",
    "\n",
    "The model is implemented in python using the Mesa library for agent based modeling.\n",
    "\n",
    "The model consists of a neighborhood of houses.  Each house has an attractiveness score:\n",
    "\n",
    "$$A = B_s + A_0$$\n",
    "\n",
    "The attractiveness score is composed of a baseline attractiveness $A_0$ and a dynamic component $B_s$.\n",
    "\n",
    "$B_s$ is determined by its previous value, the number of crimes committed at an address in a previous period, and a broken windows effect:\n",
    "\n",
    "$$B(t+\\delta t) =  (B_s(t) + \\frac{\\mu l^2}{z} \\Delta B_s(t))(1-\\omega \\delta t)+\\theta E_s(t)$$\n",
    "\n",
    "Where $\\delta$ is the time interval, $\\mu$ describes how attractiveness spreads due to the broken window effect, $l$ is the distance between houses, $\\Delta$ is the discrete Laplacian operator, $z$ is the number of houses around any single house (in this case 4), $\\omega$ describes attractiveness decay, $\\theta$ measures the attractiveness increase for crimes committed at a location in the interval $\\delta t$."
   ]
  },
  {
   "cell_type": "markdown",
   "metadata": {},
   "source": [
    "## Model Components\n",
    "\n",
    "The model has three components.  First, agents that represent houses.  Second, the criminal agents.  Third, the spacial component represented by a grid on a taurus. \n",
    "\n",
    "Running main will run the model through the designated number of iterations and output a heatmap of attractiveness.  \n",
    "\n",
    "At each step the datacollector summarizes, min, max and mean attractiveness scores as well as the location of the house with the maximum attractiveness.  \n",
    "\n"
   ]
  },
  {
   "cell_type": "code",
   "execution_count": null,
   "metadata": {},
   "outputs": [],
   "source": []
  }
 ],
 "metadata": {
  "kernelspec": {
   "display_name": "Python 3",
   "language": "python",
   "name": "python3"
  },
  "language_info": {
   "codemirror_mode": {
    "name": "ipython",
    "version": 3
   },
   "file_extension": ".py",
   "mimetype": "text/x-python",
   "name": "python",
   "nbconvert_exporter": "python",
   "pygments_lexer": "ipython3",
   "version": "3.7.0"
  }
 },
 "nbformat": 4,
 "nbformat_minor": 4
}
